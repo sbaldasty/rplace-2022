{
 "cells": [
  {
   "cell_type": "markdown",
   "metadata": {},
   "source": [
    "**Be advised: This code overwrites files in your working directory. It also uses a considerable amount of disk space. Please run this code cautiously.**"
   ]
  },
  {
   "cell_type": "markdown",
   "metadata": {},
   "source": [
    "# Data Acquisition"
   ]
  },
  {
   "cell_type": "markdown",
   "metadata": {},
   "source": [
    "Reddit captured a complete **placement history** during 2022 r/place event. It offers at least two ways to access the placement history. We work from the [single gzip version](https://placedata.reddit.com/data/canvas-history/2022_place_canvas_history.csv.gzip): a 12.4GB CSV file containing ~160 million rows, where each row describes a single placement on the canvas in four columns.\n",
    "\n",
    "1. A **timestamp** for when the placement happened. The three digits of milliseconds do not have trailing zeroes. Examples:\n",
    "\n",
    "   ``2022-04-01 13:03:53.256 UTC``\n",
    "   <br/>\n",
    "   ``2022-04-01 13:03:55.57 UTC``\n",
    "\n",
    "2. An anonamized unique identifier of the **redditor** who made the placement. Examples:\n",
    "\n",
    "   ``W9aBAJubV6cUkBMMXKam6dArdW+f29WURNI8E6gg924YRnYfQP7eQC5eZOc3QAbIiKBZk8XGKGSIZ4OWHftq+w==``\n",
    "   <br/>\n",
    "   ``+LLcdTrBoCOWfrVxzvPQ8TErpFxEk5Uma6qo4f2wtBbaB0loKGfXkph/5FShq/jIMqx5llgxRCwA5DgpmWfrOg==``\n",
    "\n",
    "3. An HTML-style hexadecimal representation of **color** of the placement. Examples:\n",
    "\n",
    "    ``#00A368``\n",
    "    <br/>\n",
    "    ``#3690EA``\n",
    "\n",
    "4. The **coordinates** of the placement. The placement is almost always a **pixel placement** with (_x_, _y_) coordinates, but sometimes it is a **rectangle placement** with (_x1_, _y1_, _x2_, _y2_). Event moderators sometimes placed rectangles to censor inappropriate content. Examples:\n",
    "\n",
    "   ``394,227``\n",
    "   <br/>\n",
    "   ``23,0,511,819``\n",
    "\n",
    "See [r/place Datasets](https://www.reddit.com/r/place/comments/txvk2d/rplace_datasets_april_fools_2022/) for more details about the event and the data set."
   ]
  },
  {
   "cell_type": "markdown",
   "metadata": {},
   "source": [
    "We run these commands on [Ubuntu](https://ubuntu.com), aware that unfortunately operating system specific differences exist - especially for sorting. That said we make our intentions explicit in each step, so the commands may port fairly easily to other operating systems."
   ]
  },
  {
   "cell_type": "code",
   "execution_count": null,
   "metadata": {},
   "outputs": [],
   "source": [
    "# Download compressed placement history, overwriting if necessary\n",
    "!wget -O placement_history.csv.gz \"https://placedata.reddit.com/data/canvas-history/2022_place_canvas_history.csv.gzip\""
   ]
  },
  {
   "cell_type": "code",
   "execution_count": 2,
   "metadata": {},
   "outputs": [],
   "source": [
    "# Ensure uncompressed placement history file does not exist\n",
    "!rm -f placement_history.csv"
   ]
  },
  {
   "cell_type": "code",
   "execution_count": 3,
   "metadata": {},
   "outputs": [],
   "source": [
    "# Uncompress placement history\n",
    "!gunzip placement_history.csv.gz"
   ]
  },
  {
   "cell_type": "markdown",
   "metadata": {},
   "source": [
    "# Header Row Removal"
   ]
  },
  {
   "cell_type": "markdown",
   "metadata": {},
   "source": [
    "The CSV file begins with a header row. We could simply skip the header row when processing the file, except that we also want to sort the file - and it turns out that sorting changes the location of the header row within the file. So insead we remove the header row beforehand."
   ]
  },
  {
   "cell_type": "code",
   "execution_count": 4,
   "metadata": {},
   "outputs": [],
   "source": [
    "# Remove header\n",
    "!sed -i \"1d\" placement_history.csv"
   ]
  },
  {
   "cell_type": "markdown",
   "metadata": {},
   "source": [
    "# Sorting by Timestamp"
   ]
  },
  {
   "cell_type": "markdown",
   "metadata": {},
   "source": [
    "The rows come initially unsorted. Some analyses require rows pre-sorted by timestamp. The sort needs no special parameters.\n",
    "\n",
    "1. The timestamp is the first column\n",
    "2. Since spaces come before digits in this locale, the variable-width milliseconds do not pose problems either"
   ]
  },
  {
   "cell_type": "code",
   "execution_count": 5,
   "metadata": {},
   "outputs": [],
   "source": [
    "# Produce file with rows sorted by timestamp\n",
    "!LC_ALL=C sort placement_history.csv > timestamp_sorted_history.csv"
   ]
  },
  {
   "cell_type": "code",
   "execution_count": 6,
   "metadata": {},
   "outputs": [],
   "source": [
    "# Compress timestamp sorted file\n",
    "!gzip -f timestamp_sorted_history.csv"
   ]
  },
  {
   "cell_type": "markdown",
   "metadata": {},
   "source": [
    "# Cleanup"
   ]
  },
  {
   "cell_type": "markdown",
   "metadata": {},
   "source": [
    "In the interest of reducing disk space usage, we delete the original unsorted placement history."
   ]
  },
  {
   "cell_type": "code",
   "execution_count": 7,
   "metadata": {},
   "outputs": [],
   "source": [
    "# Delete unsorted placement history\n",
    "!rm -f placement_history.csv"
   ]
  }
 ],
 "metadata": {
  "interpreter": {
   "hash": "916dbcbb3f70747c44a77c7bcd40155683ae19c65e1c03b4aa3499c5328201f1"
  },
  "kernelspec": {
   "display_name": "Python 3.8.10 64-bit",
   "language": "python",
   "name": "python3"
  },
  "language_info": {
   "codemirror_mode": {
    "name": "ipython",
    "version": 3
   },
   "file_extension": ".py",
   "mimetype": "text/x-python",
   "name": "python",
   "nbconvert_exporter": "python",
   "pygments_lexer": "ipython3",
   "version": "3.8.10"
  },
  "orig_nbformat": 4
 },
 "nbformat": 4,
 "nbformat_minor": 2
}
